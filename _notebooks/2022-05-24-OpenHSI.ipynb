{
 "cells": [
  {
   "cell_type": "markdown",
   "metadata": {},
   "source": [
    "# Making Hyperspectral Imagers Accessible to Everyone\n",
    "> OpenHSI: The Open Source Hyperspectral Imaging Solution\n",
    "\n",
    "- toc: true \n",
    "- badges: false\n",
    "- comments: true\n",
    "- categories: [publications,hyperspectral]\n",
    "- image: images/2022-05-24-OpenHSI_files/openhsi_cam.png\n",
    "- hide: true\n",
    "- search_exclude: true\n",
    "- permalink: /openhsi/"
   ]
  },
  {
   "cell_type": "markdown",
   "metadata": {},
   "source": [
    "\n",
    "# Introduction\n",
    "\n",
    "OpenHSI is an open source initiative to make hyperspectral technology assecible to a wider audience. The advantage of a hyperspectral imager is being able to cobine imaging and spectroscopy. \n",
    "\n",
    "Some description of the team...\n",
    "\n",
    "You're probably already familiar with maps and sateelite imagery for GPS navigation. From those mapes, it is easy to identify (or classify) trees, roads, sand, buidlings, etc. and guide decision making. \n",
    "\n",
    "Your're also probably familiar with spectrscopy, the art of identifying material composition from spectral signatures. For example, we can determine the chemical make up of the Sun by observing absorption lines. Different materials will have different spectral signatures even if they appear the same color to our eyes. Being able to distinguish between vegtation specities, pollutants in our water supply,\n",
    "\n",
    "\n",
    "\n",
    "\n",
    "\n",
    "\n",
    "# Operation\n",
    "\n",
    "how to use the optics hardware and software documentation\n",
    "\n",
    "## Calibration Methods\n",
    "\n",
    "\n",
    "# Challenges\n",
    "\n",
    "\n",
    "# Conclusions\n",
    "\n",
    "Let me know in the comments below how you found the ..."
   ]
  },
  {
   "cell_type": "code",
   "execution_count": null,
   "metadata": {},
   "outputs": [],
   "source": []
  }
 ],
 "metadata": {
  "kernelspec": {
   "display_name": "Python 3 (ipykernel)",
   "language": "python",
   "name": "python3"
  }
 },
 "nbformat": 4,
 "nbformat_minor": 4
}
