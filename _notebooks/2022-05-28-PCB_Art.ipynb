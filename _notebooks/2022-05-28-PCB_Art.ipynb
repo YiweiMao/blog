{
 "cells": [
  {
   "cell_type": "markdown",
   "metadata": {},
   "source": [
    "# The Art of Printed Circuit Board Art\n",
    "> A how to guide to making your own custom Printed Circuit Board (PCB) artworks.\n",
    "\n",
    "- toc: true \n",
    "- badges: false\n",
    "- comments: true\n",
    "- categories: [pcb]\n",
    "- image: images/2022-02-28-PCB_Art_files/bus_card.jpg\n",
    "- hide: true\n",
    "- search_exclude: true\n",
    "- permalink: /pcb_art/"
   ]
  },
  {
   "cell_type": "markdown",
   "metadata": {},
   "source": [
    "\n",
    "# Introduction\n",
    "\n",
    "Printed Circuit Boards (PCBs) are ubiquitous in consumer electronics including the device you are using to read this blog post right now... you didn't print this out did you? Let's ignore the occasional posts of [cable spaghetti](https://www.reddit.com/r/cablegore/) that people call \"art\", and focus on the PCBs designed to have unconventional functions that you need to experience to appreciate. \n",
    "\n",
    "> \"*He needed more than vague explanations and abstract ideas—but those were the very soul of art. If you could explain something perfectly, then you’d never need art. That was the difference between a table and a beautiful woodcutting. You could explain the table: its purpose, its shape, its nature. The woodcutting you simply had to experience.*\" - Brandon Sanderson in Oathbringer\n",
    "\n",
    "My journey traces back to when I was 17 and competing in the Nationals Competition held by RoboCup Junior Australia. My team came second in the Robot Soccer Open Division. Okay, I'll admit our robot was cable spaghetti... and the winning team had nice PCBs... but it was the medals we got that started this. \n",
    "\n",
    "![](../images/2022-02-28-PCB_Art_files/ruler.jpg  \"Figure 1: Returing from nationals with medals and a trophie.\")\n",
    "\n",
    "The medals we received were actually PCBs with LEDs that blinked. What surprised me though was that it was plated with real gold! A very thin $\\approx$50 atom thick layer of gold but still, the fact that it was shiny and delightfully blinking was amazing. \n",
    "\n",
    "![](../images/2022-02-28-PCB_Art_files/ruler.jpg  \"Figure 2: The PCB medal!\")\n",
    "\n",
    "Since then, I experimented with other concepts inspired from various sources. This blog post will show you the process you can use to make your own PCB art a reality with Eagle ([SparkFun Instructions Guide](https://learn.sparkfun.com/tutorials/how-to-install-and-setup-eagle/all)). Furthermore, we will compare the various PCB fabrication options including base material, soldermask colours, surface finishes, and silkscreen.  \n",
    "\n",
    "> Note: You can also use KiCad or Altium Designer to design your PCBs but the fundamentals stay the same. \n",
    "\n",
    "You will see how my custom PCB ruler, and business card came to be - and hopefully inspire you to come up with your own design and get them made! \n",
    "\n",
    "# PCB Colours\n",
    "\n",
    "\n",
    "No yellow though. \n",
    "\n",
    "\n",
    "# PCB Layers\n",
    "\n",
    "\n",
    "## Copper\n",
    "\n",
    "copper \n",
    "\n",
    "\n",
    "## Soldermask\n",
    "\n",
    "\n",
    "## Silkscreen\n",
    "\n",
    "task\n",
    "\n"
   ]
  },
  {
   "cell_type": "markdown",
   "metadata": {},
   "source": [
    "\n",
    "# Bitmap Image\n",
    "\n",
    "colours\n",
    "\n",
    "\n",
    "\n",
    "\n",
    "# The PCB Fab House\n",
    "\n",
    "ENIG\n",
    "\n",
    "\n",
    "![](../images/2022-02-28-PCB_Art_files/ruler.jpg \"Custom gold plated ruler!\")"
   ]
  },
  {
   "cell_type": "markdown",
   "metadata": {},
   "source": [
    "# Conclusion\n",
    "\n",
    "We explored afdaf\n"
   ]
  },
  {
   "cell_type": "code",
   "execution_count": null,
   "metadata": {},
   "outputs": [],
   "source": []
  }
 ],
 "metadata": {
  "kernelspec": {
   "display_name": "Python 3 (ipykernel)",
   "language": "python",
   "name": "python3"
  }
 },
 "nbformat": 4,
 "nbformat_minor": 4
}
