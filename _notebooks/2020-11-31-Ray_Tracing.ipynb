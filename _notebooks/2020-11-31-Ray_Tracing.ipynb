{
 "cells": [
  {
   "cell_type": "markdown",
   "metadata": {},
   "source": [
    "# Interactive Exploration of Ray Tracing in Julia\n",
    "> Summary\n",
    "\n",
    "- toc: true \n",
    "- badges: true\n",
    "- hide_binder_badge: true\n",
    "- hide_colab_badge: true\n",
    "- comments: true\n",
    "- categories: [\"ray tracing\"]\n",
    "- image: https://en.wikipedia.org/wiki/Ray_tracing_(graphics)#/media/File:Recursive_raytrace_of_a_sphere.png\n",
    "- hide: true\n",
    "- search_exclude: true\n",
    "- permalink: /ray_tracing/"
   ]
  },
  {
   "cell_type": "markdown",
   "metadata": {},
   "source": [
    "# Introduction\n",
    "\n",
    "What is ray tracing? \n",
    "> Ray tracing is a rendering technique that can produce incredibly realistic lighting effects. Essentially, an algorithm can trace the path of light, and then simulate the way that the light interacts with the virtual objects it ultimately hits in the computer-generated world. [Source](https://www.techradar.com/au/news/ray-tracing#:~:text=Ray%20tracing%20is%20a%20rendering,in%20the%20computer%2Dgenerated%20world.)\n",
    "\n",
    "\n",
    "\n",
    "## Running This Notebook\n",
    "\n",
    "This blog post was made entirely in a Jupyter Notebook so you can download it (link to GitHub at top of post) and run it for yourself. I chose to write in Julia as opposed to Python for a number of reasons:\n",
    "- Julia is compiled and runs as almost as fast as C\n",
    "- Interactive and can be used in a Jupyter Notebook (the Ju in Jupyter stands for Julia after all)\n",
    "- Built for parallel computing, GPU computing, and shared memory computing\n",
    "- Supports mathematical symbols in code\n",
    "- Rather similar to use for someone used to `numpy`\n",
    "- I'm learning Julia right now and the best way to learn a new programming language is to use it!\n",
    "\n",
    "\n",
    "I want to try using BibTeX in my blog posts (default is APA). Here is a test...\n",
    "\n",
    "Test BibTeX citation {% cite rew_netcdf_1990 %}\n",
    "\n",
    "\n",
    "\n",
    "# Setup\n",
    "\n",
    "![](https://yiweimao.github.io/blog/images/2020-06-14-6sv_files/6sv_vermote.png){:width=\"70%\"}\n",
    "\n",
    "\n",
    "We need to model \n",
    "1. Light propagation\n",
    "    - Timestepping: useful for clouds/smoke, or in our case, an atmosphere with changing refractive index\n",
    "    - Event driven: traditional approach. only recompute on interaction with a surface\n",
    "2. Reflection\n",
    "3. Refraction\n",
    "\n",
    "\n",
    "\n",
    "\n",
    "\n",
    "\n"
   ]
  },
  {
   "cell_type": "markdown",
   "metadata": {},
   "source": [
    "Let's first define a `Ray` type which has attributes:\n",
    "- a velocity (or propagation direction)\n",
    "- a position vector\n",
    "\n",
    "It is mutable so we can use in-place operations on it. "
   ]
  },
  {
   "cell_type": "code",
   "execution_count": 2,
   "metadata": {},
   "outputs": [],
   "source": [
    "mutable struct Ray\n",
    "    v̅::Vector{Float64} # velocity vector\n",
    "    x̅::Vector{Float64} # position vector\n",
    "    # c::RGB             # colour\n",
    "    # the alpha channel can deal with reflection/refraction splitting into two rays (recursive step)\n",
    "end"
   ]
  },
  {
   "cell_type": "markdown",
   "metadata": {},
   "source": [
    "Let's now define a `FlatSurface`. Other interesting easy to model surfaces are spheres. We can also model partial reflection and refraction."
   ]
  },
  {
   "cell_type": "code",
   "execution_count": 3,
   "metadata": {},
   "outputs": [],
   "source": [
    "abstract type Surface end\n",
    "\n",
    "\"\"\"\n",
    "The equation for a plane ax+by+cz+d=0\n",
    "is given by the normal n̂=(a,b,c) and\n",
    "a point x̂=(x,y,z)\n",
    "\"\"\"\n",
    "struct FlatSurface <: Surface\n",
    "    n̂::Vector{Float64} # normal vector\n",
    "    x̅::Vector{Float64} # position\n",
    "    # n::Float64         # refractive index\n",
    "    # the reflectivity and transmittivity can be calculated by the refractive index\n",
    "end\n",
    "\n",
    "struct SphereSurface <: Surface\n",
    "    r::Float64         # radius\n",
    "    x̅::Vector{Float64} # centre point\n",
    "    #n::Float64        # refractive index\n",
    "end"
   ]
  },
  {
   "cell_type": "markdown",
   "metadata": {},
   "source": [
    "And work out how to draw these surfaces"
   ]
  },
  {
   "cell_type": "code",
   "execution_count": 74,
   "metadata": {},
   "outputs": [
    {
     "data": {
      "text/plain": [
       "drawSurface (generic function with 4 methods)"
      ]
     },
     "execution_count": 74,
     "metadata": {},
     "output_type": "execute_result"
    }
   ],
   "source": [
    "using PyPlot\n",
    "\n",
    "function drawSurface(s::FlatSurface,bbox::Array=[0,-10,-1,10,10,10])\n",
    "    # since we are drawing on x-z plane, ⟂ vector is ±(-nz,0,nx)\n",
    "    x_perp = [-s.n̂[3],0,s.n̂[1]]\n",
    "    x_perp ./= norm(x_perp)\n",
    "    \n",
    "    bbox_r = norm([bbox[4]-bbox[1],bbox[5]-bbox[2],bbox[6]-bbox[3]])\n",
    "    p₁ = s.x̅ .- bbox_r.*x_perp\n",
    "    p₂ = s.x̅ .+ bbox_r.*x_perp\n",
    "    \n",
    "    plt.plot([p₁[1],p₂[1]],[p₁[2],p₂[2]],\"-k\")\n",
    "    plt.axis(\"equal\")\n",
    "    \n",
    "    bbox = [bbox[1],bbox[4],bbox[3],bbox[6]]\n",
    "    plt.axis(bbox)\n",
    "end\n",
    "\n",
    "function drawSurface(s::SphereSurface,bbox::Array=[0,-10,-1,10,10,10])\n",
    "    #y = 0 # drawing on a x-z plane\n",
    "    plt.gcf().gca().add_artist(plt.Circle((s.x̅[1],s.x̅[3]), s.r, fill=false))\n",
    "    plt.axis(\"equal\")\n",
    "    \n",
    "    bbox = [bbox[1],bbox[4],bbox[3],bbox[6]]\n",
    "    plt.axis(bbox)\n",
    "end"
   ]
  },
  {
   "cell_type": "markdown",
   "metadata": {},
   "source": [
    "Now I create a reflect function that modifies the ray's direction in place"
   ]
  },
  {
   "cell_type": "code",
   "execution_count": 31,
   "metadata": {},
   "outputs": [
    {
     "data": {
      "text/plain": [
       "reflect! (generic function with 1 method)"
      ]
     },
     "execution_count": 31,
     "metadata": {},
     "output_type": "execute_result"
    }
   ],
   "source": [
    "function reflect!(ray::Ray,n̂::Vector{Float64})\n",
    "    ray.v̅ .= ray.v̅ .- 2*dot(ray.v̅,n̂).*n̂\n",
    "    #x̅ = ⟶.x̅ .+ 0.001.*⟶.x̅\n",
    "    #return Ray(v̅, ⟶.x̅)\n",
    "end"
   ]
  },
  {
   "cell_type": "markdown",
   "metadata": {},
   "source": [
    "And now we have two intersect functions that work"
   ]
  },
  {
   "cell_type": "code",
   "execution_count": 72,
   "metadata": {},
   "outputs": [
    {
     "data": {
      "text/plain": [
       "intersect! (generic function with 2 methods)"
      ]
     },
     "execution_count": 72,
     "metadata": {},
     "output_type": "execute_result"
    }
   ],
   "source": [
    "using LinearAlgebra\n",
    "\n",
    "\"\"\"\n",
    "check if ray is travelling towards a surface, and if so, reflect it\n",
    "\"\"\"\n",
    "function intersect!(ray::Ray,s::FlatSurface)\n",
    "    if dot(ray.v̅,s.n̂) < 0 && dot(ray.x̅,s.n̂) ≤ dot(s.x̅,s.n̂)\n",
    "        reflect!(ray,s.n̂)\n",
    "        # and refract\n",
    "    end\n",
    "end\n",
    "\n",
    "function intersect!(ray::Ray,s::SphereSurface)\n",
    "    r̅ = ray.x̅-s.x̅\n",
    "    if dot(ray.v̅,r̅) < 0 && norm(r̅) ≤ s.r\n",
    "        reflect!(ray,r̅/norm(r̅))\n",
    "        # and refract\n",
    "    end\n",
    "end"
   ]
  },
  {
   "cell_type": "markdown",
   "metadata": {},
   "source": [
    "work out how to propage the rays"
   ]
  },
  {
   "cell_type": "code",
   "execution_count": 34,
   "metadata": {},
   "outputs": [
    {
     "data": {
      "text/plain": [
       "propagate! (generic function with 1 method)"
      ]
     },
     "execution_count": 34,
     "metadata": {},
     "output_type": "execute_result"
    }
   ],
   "source": [
    "\n",
    "function propagate!(ray::Ray, s::Surface, Δt::Float64)\n",
    "    intersect!(ray,s)\n",
    "    ray.x̅ .+= ray.v̅*Δt # divide by refractive index\n",
    "end\n"
   ]
  },
  {
   "cell_type": "markdown",
   "metadata": {},
   "source": [
    "Now to put it all together and plot the ray path as it hits a mirror"
   ]
  },
  {
   "cell_type": "code",
   "execution_count": 80,
   "metadata": {},
   "outputs": [
    {
     "data": {
      "image/png": "[encoded data removed]",
      "text/plain": [
       "Figure(PyObject <Figure size 640x480 with 1 Axes>)"
      ]
     },
     "metadata": {},
     "output_type": "display_data"
    }
   ],
   "source": [
    "s = FlatSurface([0,0,1],[0,0,0])\n",
    "\n",
    "rays = [ Ray([0.5+0.2*i,0,-1],[i,0,10]) for i ∈ -1:0.5:1 ]\n",
    "\n",
    "Δt = 0.01 # s\n",
    "T = 15 # s\n",
    "\n",
    "drawSurface(s)\n",
    "\n",
    "for dt in 0:Δt:T\n",
    "    for ray in rays\n",
    "        #quiver(ray.x̅[1],ray.x̅[3],ray.v̅[1],ray.v̅[3],headaxislength=0,headlength=0,width=1e-4)\n",
    "        scatter(ray.x̅[1],ray.x̅[3],s=1e-2)\n",
    "        propagate!(ray,s,Δt)\n",
    "    end\n",
    "end\n",
    "\n",
    "for ray in rays\n",
    "    quiver(ray.x̅[1],ray.x̅[3],ray.v̅[1],ray.v̅[3],width=4e-3)\n",
    "end"
   ]
  },
  {
   "cell_type": "markdown",
   "metadata": {},
   "source": [
    "that took about 1 min\n",
    "\n",
    "Time to test ray tracing for a sphere target"
   ]
  },
  {
   "cell_type": "code",
   "execution_count": 79,
   "metadata": {},
   "outputs": [
    {
     "data": {
      "image/png": "[encoded data removed]",
      "text/plain": [
       "Figure(PyObject <Figure size 640x480 with 1 Axes>)"
      ]
     },
     "metadata": {},
     "output_type": "display_data"
    }
   ],
   "source": [
    "s = SphereSurface(3,[4,0,2])\n",
    "\n",
    "rays = [ Ray([0.55+0.2*i,0,-1],[i,0,8]) for i ∈ -1:0.5:1 ]\n",
    "\n",
    "Δt = 0.01 # s\n",
    "T = 5 # s\n",
    "\n",
    "drawSurface(s)\n",
    "\n",
    "for dt in 0:Δt:T\n",
    "    for ray in rays\n",
    "        #quiver(ray.x̅[1],ray.x̅[3],ray.v̅[1],ray.v̅[3],headaxislength=0,headlength=0,width=1e-4)\n",
    "        scatter(ray.x̅[1],ray.x̅[3],s=1e-2)\n",
    "        propagate!(ray,s,Δt)\n",
    "    end\n",
    "end\n",
    "\n",
    "for ray in rays\n",
    "    quiver(ray.x̅[1],ray.x̅[3],ray.v̅[1],ray.v̅[3],width=4e-3)\n",
    "end"
   ]
  },
  {
   "cell_type": "markdown",
   "metadata": {},
   "source": [
    "that took 20 seconds...\n",
    "\n",
    "\n",
    "> Warning: Now of this was optimised for parallel computing!\n",
    "\n",
    "\n",
    "Now think about plotting this in 3D. Add transparent materials with different refractive indicies. Deal with coloured spheres (ray will have a RGBA value) and could be possible to do a BRDF.\n",
    "\n",
    "This is a fun side project to get me understanding how to write Julia code!\n"
   ]
  },
  {
   "cell_type": "markdown",
   "metadata": {},
   "source": [
    "# References\n",
    "\n",
    "{% bibliography --cited %}"
   ]
  },
  {
   "cell_type": "code",
   "execution_count": null,
   "metadata": {},
   "outputs": [],
   "source": [
    "#hide\n",
    "\n",
    "# copy of some code using MIT18S191\n",
    "\n",
    "struct Camera\n",
    "    pixels\n",
    "    \n",
    "    size::Vector{Float64} # of aperture in physical dimensions\n",
    "    \n",
    "    f::Float64 # focal length \n",
    "    \n",
    "    p::Vector{Float64} # camera position\n",
    "    \n",
    "end\n",
    "\n",
    "# ⟿ x\n",
    "\n",
    "struct Ray\n",
    "    v::Vector{Float64} # velocity vector\n",
    "    p::Vector{Float64} # position vector\n",
    "    c::RGB             # colour\n",
    "end\n",
    "\n",
    "struct Surface\n",
    "    r::Float64 # reflectivity\n",
    "    t::Float64 # transmittivity\n",
    "    c::RBGA    # colour\n",
    "    n::Float64 # refractive index\n",
    "    \n",
    "    # inner constructor\n",
    "    function Surface(r_in, t_in, c_in, n_in)\n",
    "        if !isapprox(r_in+t_in+c_in.alpha, 1)\n",
    "            error(\"invalid surface definition, r+t+c.alpha < 1\")\n",
    "        end\n",
    "        new(r_in,t_in,c_in,n_in)\n",
    "    end\n",
    "    \n",
    "    Surface(r_in, t_in, c_in::Float64, n_in) = \n",
    "        new(r_in,t_in,RGBA(0,0,0,0),n_in)\n",
    "end\n",
    "    \n",
    "abstract type Object end\n",
    "\n",
    "struct Sphere <: Object\n",
    "    p::Vector{Float64} # position\n",
    "    r::Float64         # radius\n",
    "    s::Surface\n",
    "end\n",
    "\n",
    "ClearSphere(p,r,n) = Sphere(p,r,Surface(0,1,RGBA(0,0,0,0),n))\n",
    "ReflectSphere(p,r) = Sphere(p,r,Surface(1,0,RGBA(0,0,0,0),0))\n",
    "ColourSphere(p,r,c::RGB) = Sphere(p,r,Surface(0,0,RGBA(c),0))\n",
    "\n",
    "\n",
    "struct SkyBox <: Object\n",
    "    p::Vector{Float64} # position\n",
    "    r::Float64         # radius\n",
    "end\n",
    "\n",
    "\n",
    "\n",
    "sphere_normal_at(ray,sphere) = normalize(ray.p .- sphere.p)\n",
    "\n"
   ]
  }
 ],
 "metadata": {
  "kernelspec": {
   "display_name": "Julia 1.5.2",
   "language": "julia",
   "name": "julia-1.5"
  },
  "language_info": {
   "file_extension": ".jl",
   "mimetype": "application/julia",
   "name": "julia",
   "version": "1.5.2"
  }
 },
 "nbformat": 4,
 "nbformat_minor": 4
}
