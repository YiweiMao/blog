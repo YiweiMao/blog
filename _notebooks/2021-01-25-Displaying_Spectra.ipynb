{
 "cells": [
  {
   "cell_type": "markdown",
   "metadata": {
    "colab_type": "text",
    "id": "gczH7GHEofj8"
   },
   "source": [
    "# Why Displays Cannot Show Pure Emission Lines\n",
    "> So how can the observed colour from spectra be displayed? An exploration of the CIE 1931 color space and how that relates to sRGB. Python code included.\n",
    "\n",
    "- toc: true \n",
    "- badges: true\n",
    "- comments: true\n",
    "- categories: []\n",
    "- image: images/2021-01-25-displaying_spectra_files/CIE1931xy_srgb.svg\n",
    "- hide: true\n",
    "- search_exclude: true\n",
    "- permalink: /colour_of_spectra/"
   ]
  },
  {
   "cell_type": "code",
   "execution_count": 15,
   "metadata": {},
   "outputs": [],
   "source": [
    "#hide \n",
    "from coloured_spectra.coloured_spectra import * # wrote this library just for this blog post\n",
    "import numpy as np\n",
    "import matplotlib.pyplot as plt\n",
    "import cv2"
   ]
  },
  {
   "cell_type": "markdown",
   "metadata": {
    "colab_type": "text",
    "id": "Kyfo8I9apxxp"
   },
   "source": [
    "# Introduction\n",
    "\n",
    "Okay, you got yourself a spectrometer and you now have a spectra. As a sensible person, you did *not* stare into the end of the fiber optic cable to see what colour that spectra represents. (And seriously, do not do this with your remaining eye either!) So you decide to simulate what that colour is from the spectra you obtained but as it turns out, this task is *not* trivial. This was the story of how this blog post came to be. \n",
    "\n",
    "In this blog post, we will discuss human vision and the colour spaces that are necessary to represent spectra in the \"right\" colour - in particular the CIE 1931 XYZ colour space. In doing so, we will discover that there are colours that we can see but are not possible to display on screens and how to work around this. Lastly, as a demonstration, we will see how spectra can be coloured. \n",
    "\n",
    "> Tip: This whole blog post is a Jupyter Notebook so you can run it with your own choice of parameters. \n",
    "\n"
   ]
  },
  {
   "cell_type": "markdown",
   "metadata": {},
   "source": [
    "# Human Vision\n",
    "\n",
    "The ordinary human eye has three types of cone cells that are sensitive to different spectral ranges under bright conditions. (When it is dark, rod cells dominate and they give us monochromatic vision.) They are the short \"S\", middle \"M\", and long \"L\" cones and their sensitivity is shown in Figure 1. Together, this forms the LMS colour space and is good for simulating various human eye visual receptions but is otherwise not very useful for computer displays. We will get to why later but the fundamental reason lies in the overlap between the L, M, and S sensitivities. \n",
    "\n",
    "![](https://upload.wikimedia.org/wikipedia/commons/0/04/Cone-fundamentals-with-srgb-spectrum.svg \"Figure 1: Normalised spectral sensitivity of human cone cells. Also, we are more sensitive to green light.\")\n",
    "\n",
    "## Displays and the sRGB Colour Space\n",
    "\n",
    "According to [this website](https://techterms.com/definition/srgb#:~:text=sRGB%20is%20a%20color%20space,%2C%20green%2C%20and%20blue%20values), the definition of colours that can be displayed on screens fall under the Standard RGB (sRGB) standard. So in order to represent a colour to show on our screens, we must produce an sRGB representation from a spectra. As it turns out, this conversion between from spectra to sRGB cannot be done directly and we must turn to a standard reference that defines other colour spaces called the CIE XYZ colour space. "
   ]
  },
  {
   "cell_type": "markdown",
   "metadata": {},
   "source": [
    "## The CIE XYZ Colour Space\n",
    "\n",
    "The Commission Internationale de l'éclairage (CIE) 1931 XYZ colour space defines all colour sensations an average human can experience. \n",
    "\n",
    "> Note: **The CIE Standard Observer**: The distribution of cones depends on the field of view so in initial experiments, this was set to be within 2° arc of the fovea. Other angles were used later including 10$^\\circ$. \n",
    "\n",
    "### Matching Functions\n",
    "\n",
    "The matching functions were obtained by the standard observers and is shown below (produced from an analytic approximation). Overall, these are similar to the LMS plot in Figure 1 with a notable difference - the bumb in X($\\lambda$) around 450 nm. I haven't found conclusive evidence why that is but after experimenting in code, this bump is needed to get conversions to *indigo and violet* for wavelengths close to 400 nm. Without this bump, the displayed colour would just be blue and if you've seen a rainbow, the colours of the rainbow do not go from red to green to blue but includes a shade of purple too. \n",
    "\n",
    "\n",
    "\n",
    "\n"
   ]
  },
  {
   "cell_type": "code",
   "execution_count": 2,
   "metadata": {},
   "outputs": [
    {
     "data": {
      "image/png": "[encoded data removed]",
      "text/plain": [
       "<Figure size 432x288 with 1 Axes>"
      ]
     },
     "metadata": {
      "needs_background": "light"
     },
     "output_type": "display_data"
    }
   ],
   "source": [
    "plot_cie_xyz_matching_functions()"
   ]
  },
  {
   "cell_type": "markdown",
   "metadata": {},
   "source": [
    "Here is a rainbow for good measure.\n",
    "\n",
    "![](https://media.nationalgeographic.org/assets/photos/000/284/28417.jpg \"Figure 2: A rainbow that shows indigo and violet colours\")\n"
   ]
  },
  {
   "cell_type": "markdown",
   "metadata": {},
   "source": [
    "In Figure 3, the boundary of the coloured shark fin represent the colour of each pure wavelength. By definition, the sRGB colour space is a subset of the CIE XYZ. Any chromaticity that lies outside the sRGB triangle will have some R, G, or B values that are *negative* and cannot be displayed. Let's look at why this is the case using an example.\n",
    "\n",
    "![](../images/2021-01-25-displaying_spectra_files/CIE1931xy_srgb.svg \"Figure 3: sRGB is a subset of CIE XYZ.\")\n",
    "\n",
    "The white point is marked as D65. What is the reasoning behind this naming?\n",
    "\n",
    "#### D65 and the CIE Standard Illuminant\n",
    "\n",
    "[D65](https://en.wikipedia.org/wiki/Illuminant_D65) is known as the CIE standard illuminant and is roughly equivalent to daylight at midday Europe. The 65 refers to a colour temperature of 6500 K (actually 6504 K after physical constants were revised). There are other standard illuminants defined by different colour temperatures. \n",
    "\n",
    "![](https://upload.wikimedia.org/wikipedia/commons/thumb/d/d0/SPD_D65.png/512px-SPD_D65.png \"Figure 4: D65 spectral power distribution.\")\n",
    "\n",
    "#### How to display a pure green spectral line?\n",
    "Let's use the CIE XYZ space for the sake of this argument. The same reasoning can be applied to the LMS colour space.\n",
    "In our example, we assume that [green on the display is emitted at 532 nm](https://www.rp-photonics.com/rgb_sources.html) (will depend on your display!). Then this pure spectral line will have components in X, Y, and Z but most of the contribution is towards Y. \n",
    "\n",
    "\n",
    "\n"
   ]
  },
  {
   "cell_type": "code",
   "execution_count": 3,
   "metadata": {},
   "outputs": [
    {
     "data": {
      "text/plain": [
       "array([0.18198845, 0.88928536, 0.03742325])"
      ]
     },
     "execution_count": 3,
     "metadata": {},
     "output_type": "execute_result"
    }
   ],
   "source": [
    "wavelength2xyz(532) # X, Y, and Z contributions at 520 nm"
   ]
  },
  {
   "cell_type": "markdown",
   "metadata": {},
   "source": [
    "If we treated these values as the same as sRGB and that the possible sRGB values lie between 0 (min) and 1 (max), then what colour will be displayed? "
   ]
  },
  {
   "cell_type": "code",
   "execution_count": 4,
   "metadata": {},
   "outputs": [
    {
     "data": {
      "image/png": "[encoded data removed]",
      "text/plain": [
       "<Figure size 432x288 with 1 Axes>"
      ]
     },
     "metadata": {
      "needs_background": "light"
     },
     "output_type": "display_data"
    }
   ],
   "source": [
    "plot_colour([0.18198845, 0.88928536, 0.03742325])"
   ]
  },
  {
   "cell_type": "markdown",
   "metadata": {},
   "source": [
    "Then the colour will less green than expected, whitened by adding blue and red, and shifted a little more red when it should just display only green components! Can you tell the difference bewteen the green above and below?"
   ]
  },
  {
   "cell_type": "code",
   "execution_count": 5,
   "metadata": {},
   "outputs": [
    {
     "data": {
      "image/png": "[encoded data removed]",
      "text/plain": [
       "<Figure size 432x288 with 1 Axes>"
      ]
     },
     "metadata": {
      "needs_background": "light"
     },
     "output_type": "display_data"
    }
   ],
   "source": [
    "plot_colour([0,1.,0])"
   ]
  },
  {
   "cell_type": "markdown",
   "metadata": {},
   "source": [
    "The same can be said for any other pure wavelength. \n",
    "\n",
    "### How to deal with negative sRGB values\n",
    "\n",
    "Here, we will see two ways we can deal with negative sRGB values. They are: clamping all negatives to zero, and whitening.\n",
    "In whitening, we add to all channels until all numbers are non-negative then rescale the result such that the original max sRGB value is unchanged. \n",
    "The following plots will show you what the difference is."
   ]
  },
  {
   "cell_type": "code",
   "execution_count": 6,
   "metadata": {},
   "outputs": [
    {
     "data": {
      "image/png": "[encoded data removed]",
      "text/plain": [
       "<Figure size 432x288 with 1 Axes>"
      ]
     },
     "metadata": {
      "needs_background": "light"
     },
     "output_type": "display_data"
    }
   ],
   "source": [
    "plot_wavelength_colours(\"CLAMP\")"
   ]
  },
  {
   "cell_type": "code",
   "execution_count": 7,
   "metadata": {},
   "outputs": [
    {
     "data": {
      "image/png": "[encoded data removed]",
      "text/plain": [
       "<Figure size 432x288 with 1 Axes>"
      ]
     },
     "metadata": {
      "needs_background": "light"
     },
     "output_type": "display_data"
    }
   ],
   "source": [
    "plot_wavelength_colours(\"WHITEN\")"
   ]
  },
  {
   "cell_type": "markdown",
   "metadata": {},
   "source": [
    "## Colour of a Blackbody \n",
    "\n",
    "The Sun can be appoximated as a blackbody with temperature 5778 K. Let's see what colour this spectra corresponds to.\n"
   ]
  },
  {
   "cell_type": "code",
   "execution_count": 8,
   "metadata": {},
   "outputs": [
    {
     "data": {
      "image/png": "[encoded data removed]",
      "text/plain": [
       "<Figure size 432x288 with 1 Axes>"
      ]
     },
     "metadata": {
      "needs_background": "light"
     },
     "output_type": "display_data"
    }
   ],
   "source": [
    "bb = Blackbody(5778)\n",
    "bb.plot()"
   ]
  },
  {
   "cell_type": "code",
   "execution_count": 9,
   "metadata": {},
   "outputs": [],
   "source": [
    "\n",
    "def show_blackbody_colour(T_K):\n",
    "    bb = Blackbody(T_K,np.linspace(380,750))\n",
    "    \n",
    "    sRGB = spectra2sRGB(bb.λ_nm,bb.B_λT)\n",
    "\n",
    "    # Due to normalisation choices, the brightness can change depending on the spectra\n",
    "    # show the same hue at max brightness\n",
    "    HSV = cv2.cvtColor(np.reshape(sRGB,(1,1,3)), cv2.COLOR_RGB2HSV_FULL)\n",
    "    HSV[0,0,2] = 255\n",
    "    RGB = cv2.cvtColor(HSV, cv2.COLOR_HSV2RGB_FULL)\n",
    "\n",
    "    plot_colour(RGB)"
   ]
  },
  {
   "cell_type": "code",
   "execution_count": 10,
   "metadata": {},
   "outputs": [
    {
     "data": {
      "image/png": "[encoded data removed]",
      "text/plain": [
       "<Figure size 432x288 with 1 Axes>"
      ]
     },
     "metadata": {
      "needs_background": "light"
     },
     "output_type": "display_data"
    }
   ],
   "source": [
    "show_blackbody_colour(5778)"
   ]
  },
  {
   "cell_type": "code",
   "execution_count": 11,
   "metadata": {},
   "outputs": [
    {
     "data": {
      "image/png": "[encoded data removed]",
      "text/plain": [
       "<Figure size 432x288 with 1 Axes>"
      ]
     },
     "metadata": {
      "needs_background": "light"
     },
     "output_type": "display_data"
    }
   ],
   "source": [
    "show_blackbody_colour(11000) # what about the star Rigel?"
   ]
  },
  {
   "cell_type": "markdown",
   "metadata": {},
   "source": []
  },
  {
   "cell_type": "markdown",
   "metadata": {},
   "source": [
    "# Displaying spectra\n",
    "\n",
    "Let's artifically create the spectra for HgAr and then use `coloured_spectra` to show the emission lines in its colour. \n",
    "We can't see UV and NIR so those emission lines will be coloured white. The colour palette for each wavelength we will be using is shown below.\n"
   ]
  },
  {
   "cell_type": "code",
   "execution_count": 12,
   "metadata": {},
   "outputs": [
    {
     "data": {
      "image/png": "[encoded data removed]",
      "text/plain": [
       "<Figure size 432x288 with 1 Axes>"
      ]
     },
     "metadata": {
      "needs_background": "light"
     },
     "output_type": "display_data"
    }
   ],
   "source": [
    "plot_hsv_LUT_spectrum()"
   ]
  },
  {
   "cell_type": "markdown",
   "metadata": {},
   "source": [
    "This is a simulated HgAr spectra."
   ]
  },
  {
   "cell_type": "code",
   "execution_count": 13,
   "metadata": {},
   "outputs": [
    {
     "data": {
      "text/plain": [
       "Text(0.5, 0, 'wavelength (nm)')"
      ]
     },
     "execution_count": 13,
     "metadata": {},
     "output_type": "execute_result"
    },
    {
     "data": {
      "image/png": "[encoded data removed]",
      "text/plain": [
       "<Figure size 432x288 with 1 Axes>"
      ]
     },
     "metadata": {
      "needs_background": "light"
     },
     "output_type": "display_data"
    }
   ],
   "source": [
    "lines_nm = [254,436,546,764,405,365,750,738,697,812,912,801] # approx sorted by emission strength\n",
    "img = np.zeros((100,1000))\n",
    "wavelengths = np.linspace(350,850,1000)\n",
    "\n",
    "strength = 1.\n",
    "for line in lines_nm: \n",
    "    indx = np.sum(wavelengths<line)\n",
    "    if indx > 0 and indx < 1000:\n",
    "        img[:,indx-2:indx+2] = strength\n",
    "        strength -= 0.05\n",
    "\n",
    "plt.imshow(img,cmap=\"gray\",extent=[np.min(wavelengths),np.max(wavelengths),0,np.shape(img)[0]])\n",
    "plt.xlabel(\"wavelength (nm)\")\n"
   ]
  },
  {
   "cell_type": "code",
   "execution_count": 14,
   "metadata": {},
   "outputs": [
    {
     "name": "stderr",
     "output_type": "stream",
     "text": [
      "100%|██████████| 100/100 [00:01<00:00, 56.97it/s]\n"
     ]
    },
    {
     "data": {
      "image/png": "[encoded data removed]",
      "text/plain": [
       "<Figure size 432x288 with 1 Axes>"
      ]
     },
     "metadata": {
      "needs_background": "light"
     },
     "output_type": "display_data"
    }
   ],
   "source": [
    "colour_hyperspectral_line(wavelengths,img)"
   ]
  },
  {
   "cell_type": "markdown",
   "metadata": {
    "colab_type": "text",
    "id": "sfv81Dfx6n3n"
   },
   "source": [
    "# Conclusion\n",
    "In this blog post, we learned that displays cannot show all the colours we can see. We saw how the CIE 1931 XYZ colour space can be used to generate suitable sRGB values to display including ways to mitigate negative sRGB values. As a cool demo, we ended on colouring in the HgAr emission spectra."
   ]
  },
  {
   "cell_type": "markdown",
   "metadata": {
    "colab_type": "text",
    "id": "DUYsm_4DCnB2"
   },
   "source": []
  },
  {
   "cell_type": "code",
   "execution_count": null,
   "metadata": {},
   "outputs": [],
   "source": []
  }
 ],
 "metadata": {
  "colab": {
   "collapsed_sections": [],
   "name": "2020-04-18-Exploring_Hyperspectral.ipynb",
   "provenance": []
  },
  "kernelspec": {
   "display_name": "Python 3",
   "language": "python",
   "name": "python3"
  },
  "language_info": {
   "codemirror_mode": {
    "name": "ipython",
    "version": 3
   },
   "file_extension": ".py",
   "mimetype": "text/x-python",
   "name": "python",
   "nbconvert_exporter": "python",
   "pygments_lexer": "ipython3",
   "version": "3.8.3"
  }
 },
 "nbformat": 4,
 "nbformat_minor": 4
}
