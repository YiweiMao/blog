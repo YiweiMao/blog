{
  "cells": [
    {
      "cell_type": "markdown",
      "metadata": {
        "id": "SBI9A_fV8g2F",
        "colab_type": "text"
      },
      "source": [
        "# Basics of Radiometric Correction for Hyperspectral Data\n",
        "> Summary\n",
        "\n",
        "- toc: true \n",
        "- badges: true\n",
        "- comments: true\n",
        "- categories: []\n",
        "- image: https://i.insider.com/59356950b74af41b008b64fa\n",
        "- hide: true\n",
        "- search_exclude: true\n",
        "- permalink: /:year/:month/:day/:title"
      ]
    },
    {
      "cell_type": "markdown",
      "metadata": {
        "id": "14rLv83kzi4x",
        "colab_type": "text"
      },
      "source": [
        "# Introduction\n",
        "The atmosphere is all nice and necessary for daily life, but it sure does make it tricky to obtain picture perfect hyperspectral images taken by satellites. While we shake our fist at refraction, scattering, and absorption corrupting our data, we are simultaneously amazed at the blue sky produced by the same effects and make it a common theme in desktop wallpapers. We can't blame all our inadequacies on atmospheric effects though. Hyperspectral images also contain sensor errors such as striping, and smile and keystone artefacts which need correcting. These correction procedures require models as we shall see towards the end of this blog post.\n",
        "\n",
        "There will be some referencecs to Hyperion data so let's understand that. \n",
        "\n",
        "## Hyperion Data\n",
        "Hyperion is the first satellite hyperspectral imager on the Earth Observing-1 [(EO-1 Satellite)](http://eo1.gsfc.nasa.gov). This satellite was part of NASA's New Millennium Program Earth Observing series and sat in a sun-synchronous orbit{% fn 1 %}. The hyperspectral sensor had 220 spectral bands and a spatial resolution of 30 m. The images are taken via pushbroom which means stripes (with 7.5 km swath width in the case of Hyperion) are taken sequentially to build a 2D image with 220 channels. \n",
        "\n",
        "Hyperion data is taken above the atmosphere so it will be affected by the atmosphere. "
      ]
    },
    {
      "cell_type": "markdown",
      "metadata": {
        "id": "z8u0yrKQ8hjW",
        "colab_type": "text"
      },
      "source": [
        "# Atmospheric Effects\n",
        "The atmosphere contains molecules such as water, carbon dioxide, ozone, and aerosols. These impede the path that light takes from the scene towards the imaging sensor. The major effects of the atmosphere are: refraction, scattering, and absorption.\n",
        "\n",
        "\n",
        "## Refraction\n",
        "Refraction is the bending of light as it enters a medium with a different refractive index. It is refraction that makes a straw appear bent in a glass of water. Every medium has a refractive index $n$ defined as\n",
        "$$ n = c/v $$\n",
        "where $c$ is the speed of light in vacuum and $v$ is the speed of light in the medium. \n",
        "\n",
        "> Note: When $n$ also depends on the wavelength $\\lambda$, we also get dispersion. Refractive index is also defined as $n =\\sqrt{\\epsilon_r}$ where $\\epsilon_r$ is the relative permittivity of the medium. \n",
        "\n",
        "We can predict the refracted light angle $\\theta_2$ knowing the refractive indicies of two mediums $n_1,n_2$ and incident angle $\\theta_1$ by Snell's law\n",
        "$$ n_1 \\sin\\theta_1 = n_2 \\sin\\theta_2 .$$\n",
        "This procedure can be repeated as light moves into denser (and higher refractive index) regions of the atmosphere as shown in Figure 1.\n",
        "\n",
        "\n",
        "![](../images/2020-04-27-basics_of_radiometric_correction_files/refraction.png \"Figure 1: Light path through atmosphere with refraction effects exaggerated{% fn 2 %}.\"){:width=\"80%\"}\n",
        "\n",
        "\n",
        "## Scattering\n",
        "Atmospheric scatter is caused by many diffuse reflections of light off particles in the air. There are three regimes for scattering: Rayleigh, Mie, and optical depending on the ratio between the incident light wavelength and particle size. Rayleigh when the wavelength $\\lambda$ is much smaller than the particle size $d$, optical when the wavelength is much larger than the partical size, and Mie inbetween Rayleigh and optical where there are resonances $0.1 < \\lambda/d < 10$. This is aptly described in Figure 2.\n",
        "\n",
        "![](../images/2020-04-27-basics_of_radiometric_correction_files/scattering.png \"Figure 2: Scattering regimes{% fn 3 %}.\"){:width=\"80%\"}\n",
        "\n",
        "\n",
        "Assuming Rayleigh scattering, the intensity $I$ of light scattered is given by\n",
        "$$ I = I_0\\frac{1+\\cos^2\\theta}{2R^2}\\left(\\frac{2\\pi}{\\lambda}\\right)^4 \\left(\\frac{n^2-1}{n^2+2}\\right)^2 \\left(\\frac{d}{2}\\right)^6  $$\n",
        "where $I_0$ is the original intensity, $\\theta$ is the scattering angle, and $R$ is the range to the distance to the particle (Seinfeld and Pandis 2006).\n",
        "\n",
        "The scatter cross section $\\sigma_s$, after averaging over all scatter angles (Cox et al. 2002), is given by\n",
        "$$ \\sigma_s = \\frac{2\\pi^5 d^6}{3\\lambda^4} \\left(\\frac{n^2-1}{n^2+2}\\right)^2 .$$\n",
        "\n",
        "You may also this relation with the polarisability $\\alpha$ given by (Blue Sky 2015)\n",
        "$$ I = I_0 \\frac{8\\pi^4 \\alpha^2}{\\lambda^4 R^2}(1+\\cos^2\\theta) .$$\n",
        "\n",
        "Shorter wavelengths are scattered more as can be seen by the $\\lambda^{-4}$ dependence so when we look at the sky on a sunny day, we can see more of the shorter wavelength blue light compared to red light. However, if there is heavy air pollution (possibly from bushfires), blue light is scattered away leaving the red light. \n",
        "\n",
        "\n",
        "\n",
        "## Atmospheric Absorption\n",
        "According to Gao et al. (2009), eight gases in the atmosphere have measureable absorption effects for hyperspectral imagers in the wavelength range 400--3000 nm with spectral resolution 1--20 nm. These gases are: water vapour H$_2$O, carbon dioxide CO$_2$, ozone O$_3$, nitrous oxide N$_2$O, carbon monoxide CO, methane CH$_4$, oxygen O$_2$, and nitrogen dioxide NO$_2$. Water is by far the most absorbing and this is illustrated in Figure 3. \n",
        "\n",
        "![](../images/2020-04-27-basics_of_radiometric_correction_files/absorption.png \"Figure 3: Atmospheric absorption by gas{% fn 4 %}.\"){:width=\"80%\"}\n",
        "\n",
        "### Transmittance\n",
        "Attenuation coefficient $\\tau$ and extinction coefficient $\\alpha$\n",
        "$$ \\tau_\\lambda(z) = \\int_0^z \\alpha(\\lambda,z) dz $$\n",
        "\n",
        "$$ T(z,\\theta) = e^{-\\tau_\\lambda(z)/\\cos\\theta} $$\n",
        "where $\\tau_\\lambda$ consists of the contributions from Rayleigh scattering, and absorption from water and ozone. \n",
        "$\\cos\\theta$ accounts for oblique view.\n",
        "\n",
        "\n",
        "# System Effects\n",
        "\n",
        "\n",
        "## Striping Artefacts\n",
        "Noticable columns that are brighter than adjacent columns\n",
        "\n",
        "![](../images/2020-04-27-basics_of_radiometric_correction_files/destriping.png \"Figure 4: Hyperion band 128 - Coleambally, NSW{% fn 5 %}.\"){:width=\"80%\"}\n",
        "\n",
        "\n",
        "## Sensor Artefacts\n",
        "spectral and spatial errors on detector array due to optical aging, degradations, aberrations, and misalignments in\n",
        "pushbroom systems, especially in hyperspectral pushbroom systems where crosstrack and spectral pixels are continuously recorded at the same time using an area detector array.\n",
        "\n",
        "Spectral error is smile, spatial error is keystone\n",
        "\n",
        "![](../images/2020-04-27-basics_of_radiometric_correction_files/smile_keystone.png \"Figure 5: Smile and keyston errors{% fn 6 %}.\"){:width=\"80%\"}\n",
        "\n",
        "\n"
      ]
    },
    {
      "cell_type": "markdown",
      "metadata": {
        "id": "zJnldclVHjq9",
        "colab_type": "text"
      },
      "source": [
        "\n",
        "### Destriping for Land\n",
        "Procedure by Goetz et al. (2003)\n",
        "great for terrestrial\n",
        "\n",
        "pixel value (or digital number) $x_{ijk}$ for row $i$, column $j$, and band $k$\n",
        "For each row $i$, we multiply by gain $a_{jk}$ and offset $b_{jk}$ such that each row's mean $\\mu_{jk}$ and standard deviation $\\sigma_{jk}$ is equal to the overall channel's mean $\\mu_k$ and standard deviation $\\sigma_k$.\n",
        "$$ x_{ijk}' =  a_{jk}x_{ijk} + b_{jk} $$\n",
        "\n",
        "$$ a_{jk} = \\frac{\\sigma_k}{\\sigma_{jk}} $$\n",
        "\n",
        "$$ b_{jk} = \\mu_k - \\frac{\\sigma_k}{\\sigma_{jk}} \\mu_{jk} $$\n",
        "\n",
        "This is applied Hyperion in Figure 4. \n",
        "\n",
        "#### Maximum Noise Fraction\n",
        "\n",
        "like PCA based on noise covariance\n",
        "\n",
        "\n",
        "### Destriping for Water\n",
        "Water absorbs too much compared to land. Need to try something different.\n",
        "Enter\n",
        "\n",
        "Vertical Radiance Correction (VRadCor)\n",
        "\n",
        "uses both spatial and spectral info\n",
        "$$ R_i' (\\lambda_k) = a_i(\\lambda_k) R_i(\\lambda_k) + b_i(\\lambda_k)$$\n",
        "\n",
        "\n",
        "### Correcting Smile and Keystone Errors\n",
        "For smile, calibrate with absorption lines\n",
        "assume spectral shift is linear across array\n",
        "\n",
        "Integration, cubic spline method\n",
        "\n",
        "\n",
        "\n"
      ]
    },
    {
      "cell_type": "markdown",
      "metadata": {
        "id": "_f7JXWR-JQp6",
        "colab_type": "text"
      },
      "source": [
        "# Radiometric Correction Models\n",
        "$L_{obs}$ at sensor radiance, $L_a$ path radiance, $T_2$ sun-surface-sensor two way transmittance, $S$ spherical albedo, $E_s$ exoatmospheric solar irradiance, $\\theta_s$ solar zenith angle, $\\rho$ surface reflectance. \n",
        "\n",
        "$$ L_{obs} = L_a  + \\frac{T_2 \\rho}{1-\\rho S}\\frac{E_s\\cos\\theta_s}{\\pi}  $$\n",
        "\n",
        "$$ \\rho = \\frac{L_{obs}-L_a}{(L_{obs}-L_a)S+T_2 E_s\\cos\\theta_s/\\pi} $$\n",
        "\n",
        "## Absolute Correction\n",
        "\n",
        "### MODTRAN\n",
        "Moderate Resolution Atmospheric Radiance and Transmittance Model\n",
        "\n",
        "\n",
        "### 6S\n",
        "Second Simulation of the Satellite Signal in the Solar Spectrum\n",
        "\n",
        "\n",
        "### FLAASH\n",
        "Fast Line-of-sight Atmospheric Analysis of Spectral Hypercubes\n",
        "\n",
        "\n",
        "### ELC\n",
        "Empirical Line Calibration\n",
        "\n",
        "linear regression against lab spectra, need to know materials in FOV.\n",
        "\n",
        "\n",
        "### ATREM\n",
        "Atmospheric Removal\n",
        "\n",
        "\n",
        "### ATCOR\n",
        "Atmospheric Correction\n",
        "\n",
        "### HATCH\n",
        "\n",
        "High-accuracy Atmospheric Correction for Hyperspectral data\n",
        "\n",
        "### Comparison\n",
        "No idea\n",
        "\n",
        "## Relative Correction\n",
        "same scene taken on different dates, normalised to reduce variations"
      ]
    },
    {
      "cell_type": "markdown",
      "metadata": {
        "id": "tc8VgsKUHzFj",
        "colab_type": "text"
      },
      "source": [
        "# Python Code for a LOWTRAN7 Atmospheric Absorption Extinction Model"
      ]
    },
    {
      "cell_type": "code",
      "metadata": {
        "id": "1pxb5ornHyU3",
        "colab_type": "code",
        "colab": {
          "base_uri": "https://localhost:8080/",
          "height": 336
        },
        "outputId": "097a3b17-5f8d-4896-f6b6-42df680f1a95"
      },
      "source": [
        "!pip install lowtran"
      ],
      "execution_count": 1,
      "outputs": [
        {
          "output_type": "stream",
          "text": [
            "Collecting lowtran\n",
            "\u001b[?25l  Downloading https://files.pythonhosted.org/packages/31/d5/8b0a247956931dc3170759bdc9ebcf890bb409d9cdd77953d4d1955b1b69/lowtran-2.4.1.tar.gz (843kB)\n",
            "\r\u001b[K     |▍                               | 10kB 18.0MB/s eta 0:00:01\r\u001b[K     |▊                               | 20kB 1.7MB/s eta 0:00:01\r\u001b[K     |█▏                              | 30kB 2.5MB/s eta 0:00:01\r\u001b[K     |█▌                              | 40kB 1.7MB/s eta 0:00:01\r\u001b[K     |██                              | 51kB 2.1MB/s eta 0:00:01\r\u001b[K     |██▎                             | 61kB 2.5MB/s eta 0:00:01\r\u001b[K     |██▊                             | 71kB 2.9MB/s eta 0:00:01\r\u001b[K     |███                             | 81kB 3.2MB/s eta 0:00:01\r\u001b[K     |███▌                            | 92kB 3.6MB/s eta 0:00:01\r\u001b[K     |███▉                            | 102kB 2.8MB/s eta 0:00:01\r\u001b[K     |████▎                           | 112kB 2.8MB/s eta 0:00:01\r\u001b[K     |████▋                           | 122kB 2.8MB/s eta 0:00:01\r\u001b[K     |█████                           | 133kB 2.8MB/s eta 0:00:01\r\u001b[K     |█████▍                          | 143kB 2.8MB/s eta 0:00:01\r\u001b[K     |█████▉                          | 153kB 2.8MB/s eta 0:00:01\r\u001b[K     |██████▏                         | 163kB 2.8MB/s eta 0:00:01\r\u001b[K     |██████▋                         | 174kB 2.8MB/s eta 0:00:01\r\u001b[K     |███████                         | 184kB 2.8MB/s eta 0:00:01\r\u001b[K     |███████▍                        | 194kB 2.8MB/s eta 0:00:01\r\u001b[K     |███████▊                        | 204kB 2.8MB/s eta 0:00:01\r\u001b[K     |████████▏                       | 215kB 2.8MB/s eta 0:00:01\r\u001b[K     |████████▌                       | 225kB 2.8MB/s eta 0:00:01\r\u001b[K     |█████████                       | 235kB 2.8MB/s eta 0:00:01\r\u001b[K     |█████████▎                      | 245kB 2.8MB/s eta 0:00:01\r\u001b[K     |█████████▊                      | 256kB 2.8MB/s eta 0:00:01\r\u001b[K     |██████████                      | 266kB 2.8MB/s eta 0:00:01\r\u001b[K     |██████████▌                     | 276kB 2.8MB/s eta 0:00:01\r\u001b[K     |██████████▉                     | 286kB 2.8MB/s eta 0:00:01\r\u001b[K     |███████████▎                    | 296kB 2.8MB/s eta 0:00:01\r\u001b[K     |███████████▋                    | 307kB 2.8MB/s eta 0:00:01\r\u001b[K     |████████████                    | 317kB 2.8MB/s eta 0:00:01\r\u001b[K     |████████████▍                   | 327kB 2.8MB/s eta 0:00:01\r\u001b[K     |████████████▉                   | 337kB 2.8MB/s eta 0:00:01\r\u001b[K     |█████████████▏                  | 348kB 2.8MB/s eta 0:00:01\r\u001b[K     |█████████████▋                  | 358kB 2.8MB/s eta 0:00:01\r\u001b[K     |██████████████                  | 368kB 2.8MB/s eta 0:00:01\r\u001b[K     |██████████████▍                 | 378kB 2.8MB/s eta 0:00:01\r\u001b[K     |██████████████▊                 | 389kB 2.8MB/s eta 0:00:01\r\u001b[K     |███████████████▏                | 399kB 2.8MB/s eta 0:00:01\r\u001b[K     |███████████████▌                | 409kB 2.8MB/s eta 0:00:01\r\u001b[K     |████████████████                | 419kB 2.8MB/s eta 0:00:01\r\u001b[K     |████████████████▎               | 430kB 2.8MB/s eta 0:00:01\r\u001b[K     |████████████████▊               | 440kB 2.8MB/s eta 0:00:01\r\u001b[K     |█████████████████               | 450kB 2.8MB/s eta 0:00:01\r\u001b[K     |█████████████████▌              | 460kB 2.8MB/s eta 0:00:01\r\u001b[K     |█████████████████▉              | 471kB 2.8MB/s eta 0:00:01\r\u001b[K     |██████████████████▎             | 481kB 2.8MB/s eta 0:00:01\r\u001b[K     |██████████████████▋             | 491kB 2.8MB/s eta 0:00:01\r\u001b[K     |███████████████████             | 501kB 2.8MB/s eta 0:00:01\r\u001b[K     |███████████████████▍            | 512kB 2.8MB/s eta 0:00:01\r\u001b[K     |███████████████████▉            | 522kB 2.8MB/s eta 0:00:01\r\u001b[K     |████████████████████▏           | 532kB 2.8MB/s eta 0:00:01\r\u001b[K     |████████████████████▋           | 542kB 2.8MB/s eta 0:00:01\r\u001b[K     |█████████████████████           | 552kB 2.8MB/s eta 0:00:01\r\u001b[K     |█████████████████████▍          | 563kB 2.8MB/s eta 0:00:01\r\u001b[K     |█████████████████████▊          | 573kB 2.8MB/s eta 0:00:01\r\u001b[K     |██████████████████████▏         | 583kB 2.8MB/s eta 0:00:01\r\u001b[K     |██████████████████████▌         | 593kB 2.8MB/s eta 0:00:01\r\u001b[K     |███████████████████████         | 604kB 2.8MB/s eta 0:00:01\r\u001b[K     |███████████████████████▎        | 614kB 2.8MB/s eta 0:00:01\r\u001b[K     |███████████████████████▊        | 624kB 2.8MB/s eta 0:00:01\r\u001b[K     |████████████████████████        | 634kB 2.8MB/s eta 0:00:01\r\u001b[K     |████████████████████████▌       | 645kB 2.8MB/s eta 0:00:01\r\u001b[K     |████████████████████████▉       | 655kB 2.8MB/s eta 0:00:01\r\u001b[K     |█████████████████████████▎      | 665kB 2.8MB/s eta 0:00:01\r\u001b[K     |█████████████████████████▋      | 675kB 2.8MB/s eta 0:00:01\r\u001b[K     |██████████████████████████      | 686kB 2.8MB/s eta 0:00:01\r\u001b[K     |██████████████████████████▍     | 696kB 2.8MB/s eta 0:00:01\r\u001b[K     |██████████████████████████▉     | 706kB 2.8MB/s eta 0:00:01\r\u001b[K     |███████████████████████████▏    | 716kB 2.8MB/s eta 0:00:01\r\u001b[K     |███████████████████████████▋    | 727kB 2.8MB/s eta 0:00:01\r\u001b[K     |████████████████████████████    | 737kB 2.8MB/s eta 0:00:01\r\u001b[K     |████████████████████████████▍   | 747kB 2.8MB/s eta 0:00:01\r\u001b[K     |████████████████████████████▊   | 757kB 2.8MB/s eta 0:00:01\r\u001b[K     |█████████████████████████████▏  | 768kB 2.8MB/s eta 0:00:01\r\u001b[K     |█████████████████████████████▌  | 778kB 2.8MB/s eta 0:00:01\r\u001b[K     |██████████████████████████████  | 788kB 2.8MB/s eta 0:00:01\r\u001b[K     |██████████████████████████████▎ | 798kB 2.8MB/s eta 0:00:01\r\u001b[K     |██████████████████████████████▊ | 808kB 2.8MB/s eta 0:00:01\r\u001b[K     |███████████████████████████████ | 819kB 2.8MB/s eta 0:00:01\r\u001b[K     |███████████████████████████████▌| 829kB 2.8MB/s eta 0:00:01\r\u001b[K     |███████████████████████████████▉| 839kB 2.8MB/s eta 0:00:01\r\u001b[K     |████████████████████████████████| 849kB 2.8MB/s \n",
            "\u001b[?25hRequirement already satisfied: python-dateutil in /usr/local/lib/python3.6/dist-packages (from lowtran) (2.8.1)\n",
            "Requirement already satisfied: numpy>=1.16 in /usr/local/lib/python3.6/dist-packages (from lowtran) (1.18.3)\n",
            "Requirement already satisfied: xarray in /usr/local/lib/python3.6/dist-packages (from lowtran) (0.15.1)\n",
            "Requirement already satisfied: six>=1.5 in /usr/local/lib/python3.6/dist-packages (from python-dateutil->lowtran) (1.12.0)\n",
            "Requirement already satisfied: pandas>=0.25 in /usr/local/lib/python3.6/dist-packages (from xarray->lowtran) (1.0.3)\n",
            "Requirement already satisfied: setuptools>=41.2 in /usr/local/lib/python3.6/dist-packages (from xarray->lowtran) (46.1.3)\n",
            "Requirement already satisfied: pytz>=2017.2 in /usr/local/lib/python3.6/dist-packages (from pandas>=0.25->xarray->lowtran) (2018.9)\n",
            "Building wheels for collected packages: lowtran\n",
            "  Building wheel for lowtran (setup.py) ... \u001b[?25l\u001b[?25hdone\n",
            "  Created wheel for lowtran: filename=lowtran-2.4.1-cp36-cp36m-linux_x86_64.whl size=614637 sha256=b0e0341b918068dd3edccb6b3b0c83d3da37e5fc43ab695ff413924b3d06571a\n",
            "  Stored in directory: /root/.cache/pip/wheels/ab/11/99/c3fb68f5edced874ed59cfc332ccde23ef10ab84e97dc52b4e\n",
            "Successfully built lowtran\n",
            "Installing collected packages: lowtran\n",
            "Successfully installed lowtran-2.4.1\n"
          ],
          "name": "stdout"
        }
      ]
    },
    {
      "cell_type": "code",
      "metadata": {
        "id": "rg2Unynk8V_m",
        "colab_type": "code",
        "colab": {
          "base_uri": "https://localhost:8080/",
          "height": 72
        },
        "outputId": "327e6417-3826-4a44-99c0-2e3408622c36"
      },
      "source": [
        "#hide\n",
        "\n",
        "#!/usr/bin/env python\n",
        "\"\"\"\n",
        "from https://github.com/space-physics/lowtran/blob/master/ScatterRadiance.py\n",
        "\n",
        "Total Radiance = atmosphere rad. or boundary rad. + atm. scat. or boundary refl.\n",
        "Lowtran outputs W cm^-2 ster^-1 micron^-1\n",
        "we want photons cm^-2 s^-1 ster^-1 micron^-1\n",
        "1 W cm^-2 = 10000 W m^-2\n",
        "h = 6.62607004e-34 m^2 kg s^-1\n",
        "I: irradiance\n",
        "Np: numer of photons\n",
        "Np = (Ilowtran*10000)*lambda_m/(h*c)\n",
        "\"\"\"\n",
        "from pathlib import Path\n",
        "from matplotlib.pyplot import show\n",
        "try:\n",
        "    import seaborn as sns\n",
        "    sns.set_context('talk')\n",
        "except ImportError:\n",
        "    pass\n",
        "from argparse import ArgumentParser\n",
        "import lowtran\n",
        "from lowtran.plots import plotscatter\n",
        "\n",
        "\n",
        "def scatterRadiance():\n",
        "    p = ArgumentParser(description='Lowtran 7 interface')\n",
        "    p.add_argument('-z', '--obsalt', help='altitude of observer [km]', type=float, default=0.)\n",
        "    p.add_argument('-a', '--zenang', help='Observer zenith angle [deg] ', nargs='+', type=float, default=[0., 60, 80])\n",
        "    p.add_argument('-s', '--short', help='shortest wavelength nm ', type=float, default=400)\n",
        "    p.add_argument('-l', '--long', help='longest wavelength nm ', type=float, default=700)\n",
        "    p.add_argument('-step', help='wavelength step size cm^-1', type=float, default=20)\n",
        "    p.add_argument('-o', '--outfn', help='NetCDF4 file to write')\n",
        "    p.add_argument('--model', help='0-6, see Card1 \"model\" reference. 5=subarctic winter', type=int, default=5)\n",
        "\n",
        "    P = p.parse_args()\n",
        "\n",
        "    c1 = {'model': P.model,\n",
        "          'h1': P.obsalt,  # of observer\n",
        "          'angle': P.zenang,  # of observer\n",
        "          'wlshort': P.short,\n",
        "          'wllong': P.long,\n",
        "          'wlstep': P.step,\n",
        "          }\n",
        "\n",
        "    TR = lowtran.scatter(c1)\n",
        "\n",
        "    if P.outfn:\n",
        "        outfn = Path(P.outfn).expanduser()\n",
        "        print('writing', outfn)\n",
        "        TR.to_netcdf(outfn)\n",
        "\n",
        "    plotscatter(TR, c1)\n",
        "\n",
        "    show()"
      ],
      "execution_count": 2,
      "outputs": [
        {
          "output_type": "stream",
          "text": [
            "/usr/local/lib/python3.6/dist-packages/statsmodels/tools/_testing.py:19: FutureWarning: pandas.util.testing is deprecated. Use the functions in the public API at pandas.testing instead.\n",
            "  import pandas.util.testing as tm\n"
          ],
          "name": "stderr"
        }
      ]
    },
    {
      "cell_type": "code",
      "metadata": {
        "id": "ZGXH6kZZIXvE",
        "colab_type": "code",
        "colab": {
          "base_uri": "https://localhost:8080/",
          "height": 220
        },
        "outputId": "9305fb6e-320d-4917-b1b9-08416b1050d9"
      },
      "source": [
        "# from https://github.com/space-physics/lowtran/blob/master/ScatterRadiance.py\n",
        "scatterRadiance()"
      ],
      "execution_count": 3,
      "outputs": [
        {
          "output_type": "stream",
          "text": [
            "usage: ipykernel_launcher.py [-h] [-z OBSALT] [-a ZENANG [ZENANG ...]]\n",
            "                             [-s SHORT] [-l LONG] [-step STEP] [-o OUTFN]\n",
            "                             [--model MODEL]\n",
            "ipykernel_launcher.py: error: unrecognized arguments: -f /root/.local/share/jupyter/runtime/kernel-88b9aac2-df0a-451e-b188-dc8e5cc45a40.json\n"
          ],
          "name": "stderr"
        },
        {
          "output_type": "error",
          "ename": "SystemExit",
          "evalue": "ignored",
          "traceback": [
            "An exception has occurred, use %tb to see the full traceback.\n",
            "\u001b[0;31mSystemExit\u001b[0m\u001b[0;31m:\u001b[0m 2\n"
          ]
        },
        {
          "output_type": "stream",
          "text": [
            "/usr/local/lib/python3.6/dist-packages/IPython/core/interactiveshell.py:2890: UserWarning: To exit: use 'exit', 'quit', or Ctrl-D.\n",
            "  warn(\"To exit: use 'exit', 'quit', or Ctrl-D.\", stacklevel=1)\n"
          ],
          "name": "stderr"
        }
      ]
    },
    {
      "cell_type": "markdown",
      "metadata": {
        "id": "wVMQZe7EvAAQ",
        "colab_type": "text"
      },
      "source": [
        "# References\n",
        "\n",
        "\n",
        "{{ 'Pu, R. (2017). Hyperspectral remote sensing: Fundamentals and practices. CRC Press.' | fndetail: 1 }}\n",
        "\n",
        "{{ 'Modified from Miller, S. W., and Vermote, E., NPOESS Visible/Infrared Imager/Radiometer: Algorithm Theoretical Basis Document, Version 5, Raytheon, Lanham, Maryland, 2002.' | fndetail: 2 }}\n",
        "\n",
        "{{ 'From [wikipedia article on Mie scattering](https://astronomy.stackexchange.com/questions/10771/sunsets-mars-earth) with [stackexchange annotations](https://astronomy.stackexchange.com/questions/10771/sunsets-mars-earth)' | fndetail: 3 }}\n",
        "\n",
        "{{ 'From Jensen, J. R., Remote Sensing of the Environment: An Earth Resource Perspective, 2nd ed., Pearson Education, Inc., New York, 2007.' | fndetail: 4 }}\n",
        "\n",
        "\n",
        "{{ '©2003 IEEE. From Goetz, A. F. H., Kindel, B. C., Ferri, M., and Qu, Z., IEEE Transactions on Geoscience and Remote Sensing, 41, 1215−1221, 2003' | fndetail: 5 }}\n",
        "\n",
        "{{ 'Yokoya, N. et al., Applied Optics, 49(24), 4568–4575, 2010.' | fndetail: 6 }}\n",
        "\n",
        "{{ '' | fndetail: 7 }}\n",
        "\n",
        "\n"
      ]
    }
  ],
  "metadata": {
    "colab": {
      "name": "2020-04-27-Basics_of_Radiometric_Correction.ipynb",
      "provenance": [],
      "collapsed_sections": []
    },
    "kernelspec": {
      "name": "python3",
      "display_name": "Python 3"
    }
  },
  "nbformat": 4,
  "nbformat_minor": 0
}